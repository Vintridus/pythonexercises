{
 "cells": [
  {
   "cell_type": "code",
   "execution_count": 2,
   "id": "5e4dccc2-258d-45da-aca7-1f7a9cf2fd88",
   "metadata": {},
   "outputs": [],
   "source": [
    "import pandas as pd\n",
    "json_df = pd.read_json(\"dim_customer.json\")\n",
    "df = pd.read_csv(\"fct_invoice.csv\")"
   ]
  },
  {
   "cell_type": "code",
   "execution_count": 134,
   "id": "3f945e4f-649c-47bb-8610-e45697e20a97",
   "metadata": {},
   "outputs": [
    {
     "name": "stdout",
     "output_type": "stream",
     "text": [
      "<class 'pandas.core.frame.DataFrame'>\n",
      "RangeIndex: 99457 entries, 0 to 99456\n",
      "Data columns (total 11 columns):\n",
      " #   Column          Non-Null Count  Dtype   \n",
      "---  ------          --------------  -----   \n",
      " 0   invoice_no      99457 non-null  object  \n",
      " 1   customer_id     99457 non-null  int64   \n",
      " 2   category        99457 non-null  object  \n",
      " 3   quantity        99457 non-null  int64   \n",
      " 4   price           99457 non-null  float64 \n",
      " 5   payment_method  99457 non-null  object  \n",
      " 6   invoice_date    99457 non-null  object  \n",
      " 7   shopping_mall   99457 non-null  object  \n",
      " 8   age             59352 non-null  float64 \n",
      " 9   sales           99457 non-null  float64 \n",
      " 10  Range           59352 non-null  category\n",
      "dtypes: category(1), float64(3), int64(2), object(5)\n",
      "memory usage: 7.7+ MB\n",
      "None\n"
     ]
    }
   ],
   "source": [
    "print(df.info())"
   ]
  },
  {
   "cell_type": "markdown",
   "id": "2cc1de02-b337-47a2-863a-734d0cf25643",
   "metadata": {},
   "source": [
    "Easy 1"
   ]
  },
  {
   "cell_type": "code",
   "execution_count": 37,
   "id": "4a7b741b-3e4b-4a6e-8ce8-5a795bc1eb06",
   "metadata": {},
   "outputs": [
    {
     "name": "stdout",
     "output_type": "stream",
     "text": [
      "5191\n"
     ]
    }
   ],
   "source": [
    "print(len((df[\"customer_id\"].unique())))"
   ]
  },
  {
   "cell_type": "markdown",
   "id": "ba9d6a9a-1ec3-449e-9dd7-e2ea519903c0",
   "metadata": {},
   "source": [
    "Easy 2"
   ]
  },
  {
   "cell_type": "code",
   "execution_count": 12,
   "id": "04574716-0a1a-4a90-aadc-12f72f68ae6b",
   "metadata": {},
   "outputs": [
    {
     "name": "stdout",
     "output_type": "stream",
     "text": [
      "['Clothing' 'Shoes' 'Books' 'Cosmetics' 'Food & Beverage' 'Toys'\n",
      " 'Technology' 'Souvenir']\n",
      "Unique Categories: 8\n"
     ]
    }
   ],
   "source": [
    "print(df[\"category\"].unique())\n",
    "print(f'Unique Categories: {len(df[\"category\"].unique())}')"
   ]
  },
  {
   "cell_type": "markdown",
   "id": "4ad97d24-2b49-4674-8749-780dc461a7af",
   "metadata": {},
   "source": [
    "Easy 3"
   ]
  },
  {
   "cell_type": "code",
   "execution_count": 14,
   "id": "19624e91-9d47-4fd4-ab65-f2a64e528a0e",
   "metadata": {},
   "outputs": [
    {
     "name": "stdout",
     "output_type": "stream",
     "text": [
      "Cash           44447\n",
      "Credit Card    34931\n",
      "Debit Card     20079\n",
      "Name: payment_method, dtype: int64\n",
      "The most popular method is cash, used 44447 times.\n"
     ]
    }
   ],
   "source": [
    "print(df['payment_method'].value_counts())\n",
    "print(\"The most popular method is cash, used 44447 times.\")"
   ]
  },
  {
   "cell_type": "markdown",
   "id": "35e8d723-7659-433b-bbb8-906d11a84487",
   "metadata": {},
   "source": [
    "Medium 1"
   ]
  },
  {
   "cell_type": "code",
   "execution_count": 94,
   "id": "6d38718c-d916-4a24-9b52-f4ae42527d9d",
   "metadata": {},
   "outputs": [],
   "source": [
    "sale = []\n",
    "for i in range(0,len(df)):\n",
    "    sale.append(df['quantity'][i]*df['price'][i])"
   ]
  },
  {
   "cell_type": "code",
   "execution_count": 95,
   "id": "5490eff0-631d-49ae-83a5-4e0c9b9a44e9",
   "metadata": {},
   "outputs": [],
   "source": [
    "df[\"sales\"] = sale"
   ]
  },
  {
   "cell_type": "code",
   "execution_count": 97,
   "id": "602935be-4ea7-4560-a1af-552d04cbf152",
   "metadata": {},
   "outputs": [
    {
     "name": "stdout",
     "output_type": "stream",
     "text": [
      "Clothing: 113996791.03997\n",
      "Shoes: 66553451.47000195\n",
      "Books: 834552.8999999997\n",
      "Cosmetics: 6792862.8999999715\n",
      "Food & Beverage: 849535.0500000005\n",
      "Toys: 3980426.239999814\n",
      "Technology: 57862350.0\n",
      "Souvenir: 635824.6499999914\n"
     ]
    }
   ],
   "source": [
    "categories = df['category'].unique()\n",
    "for j in range(0,len(categories)):\n",
    "    values = 0\n",
    "    for i in range(0,len(df)):\n",
    "        category = df._get_value(i,'category')\n",
    "        if category == categories[j]:\n",
    "            values += df['sales'][i]\n",
    "    print(f'{categories[j]}: {values}')\n"
   ]
  },
  {
   "cell_type": "markdown",
   "id": "53ac288a-a8be-493e-ba44-41db14707457",
   "metadata": {},
   "source": [
    "The categories with the most sales are Clothing, Shoes, and Technology."
   ]
  },
  {
   "cell_type": "markdown",
   "id": "8ab69004-c98a-4bc5-bcd3-012662823931",
   "metadata": {},
   "source": [
    "Medium 2 "
   ]
  },
  {
   "cell_type": "code",
   "execution_count": 98,
   "id": "7ea11e34-5ea6-44f0-8497-80e63530bcf1",
   "metadata": {},
   "outputs": [
    {
     "name": "stdout",
     "output_type": "stream",
     "text": [
      "Sales by ages 45 and up: 82039768.14999609\n"
     ]
    }
   ],
   "source": [
    "age45 = 0\n",
    "for i in range(0,len(df)):\n",
    "    currentid = df._get_value(i,'customer_id')\n",
    "    age = json_df[json_df['id'] == currentid]['age'].values[0]\n",
    "    if age > 45:\n",
    "        age45 += df['sales'][i]\n",
    "print(f'Sales by ages 45 and up: {age45}')"
   ]
  },
  {
   "cell_type": "markdown",
   "id": "1d556108-fdb6-4d62-bebe-bf8fc069c85a",
   "metadata": {},
   "source": [
    "Medium 3 "
   ]
  },
  {
   "cell_type": "code",
   "execution_count": 29,
   "id": "422b89b8-738a-454a-95ed-9891b33b68bc",
   "metadata": {},
   "outputs": [],
   "source": [
    "dates = df['invoice_date']\n",
    "import datetime\n",
    "dated = [datetime.datetime.strptime(da, \"%d/%m/%Y\") for da in dates]\n",
    "dated.sort()\n",
    "sorteddates = [datetime.datetime.strftime(ts, \"%d/%m/%Y\") for ts in dated]\n",
    "uniquedates = list(dict.fromkeys(sorteddates))\n",
    "instances = []\n",
    "for i in range(0,len(uniquedates)):\n",
    "    instances.append(sorteddates.count(uniquedates[i]))"
   ]
  },
  {
   "cell_type": "code",
   "execution_count": 30,
   "id": "260b9004-c5d0-4022-8f1a-309608bb7b1f",
   "metadata": {},
   "outputs": [
    {
     "data": {
      "text/plain": [
       "<function matplotlib.pyplot.show(close=None, block=None)>"
      ]
     },
     "execution_count": 30,
     "metadata": {},
     "output_type": "execute_result"
    },
    {
     "data": {
      "image/png": "[encoded data removed]",
      "text/plain": [
       "<Figure size 640x480 with 1 Axes>"
      ]
     },
     "metadata": {},
     "output_type": "display_data"
    }
   ],
   "source": [
    "import matplotlib.pyplot as plt\n",
    "plt.plot(uniquedates,instances)\n",
    "plt.xticks(uniquedates[::30],rotation = 45)\n",
    "plt.axis(['01/01/2021','31/12/2023',90,160])\n",
    "plt.show"
   ]
  },
  {
   "cell_type": "markdown",
   "id": "5bf38774-941b-4d26-ad7d-33383fe78cd5",
   "metadata": {},
   "source": [
    "Hard 1"
   ]
  },
  {
   "cell_type": "code",
   "execution_count": 66,
   "id": "2db347f4-86c2-4f20-b084-aa5e609214a4",
   "metadata": {},
   "outputs": [],
   "source": [
    "ages = []\n",
    "for i in range(0,len(df)):\n",
    "    currentid = df._get_value(i,'customer_id')\n",
    "    age = json_df[json_df['id'] == currentid]['age'].values[0]\n",
    "    ages.append(age)\n",
    "df[\"age\"] = ages"
   ]
  },
  {
   "cell_type": "code",
   "execution_count": 137,
   "id": "71f5147e-67b1-405d-8bbe-9009d3df0f5f",
   "metadata": {},
   "outputs": [],
   "source": [
    "intervals = pd.IntervalIndex.from_tuples([(9, 19), (19, 29),(29, 39),(39, 49),(49, 59),(59, 69),(69, 79),(79, 89)])\n",
    "bins = [10,20,30,40,50,60,70,80,90]\n",
    "df['Range'] = pd.cut(df['age'],bins,right=False)"
   ]
  },
  {
   "cell_type": "code",
   "execution_count": 138,
   "id": "cc1644eb-c4a4-443e-b547-dd04f4e72346",
   "metadata": {},
   "outputs": [
    {
     "data": {
      "text/html": [
       "<div>\n",
       "<style scoped>\n",
       "    .dataframe tbody tr th:only-of-type {\n",
       "        vertical-align: middle;\n",
       "    }\n",
       "\n",
       "    .dataframe tbody tr th {\n",
       "        vertical-align: top;\n",
       "    }\n",
       "\n",
       "    .dataframe thead th {\n",
       "        text-align: right;\n",
       "    }\n",
       "</style>\n",
       "<table border=\"1\" class=\"dataframe\">\n",
       "  <thead>\n",
       "    <tr style=\"text-align: right;\">\n",
       "      <th>category</th>\n",
       "      <th>Books</th>\n",
       "      <th>Clothing</th>\n",
       "      <th>Cosmetics</th>\n",
       "      <th>Food &amp; Beverage</th>\n",
       "      <th>Shoes</th>\n",
       "      <th>Souvenir</th>\n",
       "      <th>Technology</th>\n",
       "      <th>Toys</th>\n",
       "    </tr>\n",
       "    <tr>\n",
       "      <th>Range</th>\n",
       "      <th></th>\n",
       "      <th></th>\n",
       "      <th></th>\n",
       "      <th></th>\n",
       "      <th></th>\n",
       "      <th></th>\n",
       "      <th></th>\n",
       "      <th></th>\n",
       "    </tr>\n",
       "  </thead>\n",
       "  <tbody>\n",
       "    <tr>\n",
       "      <th>[10, 20)</th>\n",
       "      <td>12801.75</td>\n",
       "      <td>1927413.84</td>\n",
       "      <td>109619.36</td>\n",
       "      <td>13582.31</td>\n",
       "      <td>993281.35</td>\n",
       "      <td>12375.15</td>\n",
       "      <td>1129800.0</td>\n",
       "      <td>60426.24</td>\n",
       "    </tr>\n",
       "    <tr>\n",
       "      <th>[20, 30)</th>\n",
       "      <td>79461.75</td>\n",
       "      <td>10250732.80</td>\n",
       "      <td>605915.32</td>\n",
       "      <td>73491.96</td>\n",
       "      <td>5924878.24</td>\n",
       "      <td>54943.32</td>\n",
       "      <td>5261550.0</td>\n",
       "      <td>385100.80</td>\n",
       "    </tr>\n",
       "    <tr>\n",
       "      <th>[30, 40)</th>\n",
       "      <td>84143.10</td>\n",
       "      <td>11354126.96</td>\n",
       "      <td>723544.70</td>\n",
       "      <td>87246.86</td>\n",
       "      <td>7200839.66</td>\n",
       "      <td>64092.72</td>\n",
       "      <td>6159300.0</td>\n",
       "      <td>420582.40</td>\n",
       "    </tr>\n",
       "    <tr>\n",
       "      <th>[40, 50)</th>\n",
       "      <td>87203.40</td>\n",
       "      <td>11215189.92</td>\n",
       "      <td>665034.96</td>\n",
       "      <td>89553.29</td>\n",
       "      <td>7025590.02</td>\n",
       "      <td>66391.80</td>\n",
       "      <td>5954550.0</td>\n",
       "      <td>390906.88</td>\n",
       "    </tr>\n",
       "    <tr>\n",
       "      <th>[50, 60)</th>\n",
       "      <td>74962.20</td>\n",
       "      <td>10321851.76</td>\n",
       "      <td>587780.96</td>\n",
       "      <td>72425.04</td>\n",
       "      <td>5852857.84</td>\n",
       "      <td>54943.32</td>\n",
       "      <td>4435200.0</td>\n",
       "      <td>345067.52</td>\n",
       "    </tr>\n",
       "    <tr>\n",
       "      <th>[60, 70)</th>\n",
       "      <td>80476.80</td>\n",
       "      <td>10660642.08</td>\n",
       "      <td>649990.76</td>\n",
       "      <td>80976.09</td>\n",
       "      <td>5978893.54</td>\n",
       "      <td>55025.43</td>\n",
       "      <td>5471550.0</td>\n",
       "      <td>363955.20</td>\n",
       "    </tr>\n",
       "    <tr>\n",
       "      <th>[70, 80)</th>\n",
       "      <td>54827.85</td>\n",
       "      <td>7769371.28</td>\n",
       "      <td>419082.62</td>\n",
       "      <td>55050.98</td>\n",
       "      <td>4480269.05</td>\n",
       "      <td>38673.81</td>\n",
       "      <td>3638250.0</td>\n",
       "      <td>273244.16</td>\n",
       "    </tr>\n",
       "    <tr>\n",
       "      <th>[80, 90)</th>\n",
       "      <td>26664.00</td>\n",
       "      <td>4493698.00</td>\n",
       "      <td>254531.60</td>\n",
       "      <td>31332.93</td>\n",
       "      <td>2628744.60</td>\n",
       "      <td>23718.06</td>\n",
       "      <td>1946700.0</td>\n",
       "      <td>153932.80</td>\n",
       "    </tr>\n",
       "  </tbody>\n",
       "</table>\n",
       "</div>"
      ],
      "text/plain": [
       "category     Books     Clothing  Cosmetics  Food & Beverage       Shoes  \\\n",
       "Range                                                                     \n",
       "[10, 20)  12801.75   1927413.84  109619.36         13582.31   993281.35   \n",
       "[20, 30)  79461.75  10250732.80  605915.32         73491.96  5924878.24   \n",
       "[30, 40)  84143.10  11354126.96  723544.70         87246.86  7200839.66   \n",
       "[40, 50)  87203.40  11215189.92  665034.96         89553.29  7025590.02   \n",
       "[50, 60)  74962.20  10321851.76  587780.96         72425.04  5852857.84   \n",
       "[60, 70)  80476.80  10660642.08  649990.76         80976.09  5978893.54   \n",
       "[70, 80)  54827.85   7769371.28  419082.62         55050.98  4480269.05   \n",
       "[80, 90)  26664.00   4493698.00  254531.60         31332.93  2628744.60   \n",
       "\n",
       "category  Souvenir  Technology       Toys  \n",
       "Range                                      \n",
       "[10, 20)  12375.15   1129800.0   60426.24  \n",
       "[20, 30)  54943.32   5261550.0  385100.80  \n",
       "[30, 40)  64092.72   6159300.0  420582.40  \n",
       "[40, 50)  66391.80   5954550.0  390906.88  \n",
       "[50, 60)  54943.32   4435200.0  345067.52  \n",
       "[60, 70)  55025.43   5471550.0  363955.20  \n",
       "[70, 80)  38673.81   3638250.0  273244.16  \n",
       "[80, 90)  23718.06   1946700.0  153932.80  "
      ]
     },
     "execution_count": 138,
     "metadata": {},
     "output_type": "execute_result"
    }
   ],
   "source": [
    "pd.pivot_table(df,values='sales',columns='category',index='Range',aggfunc='sum')"
   ]
  },
  {
   "cell_type": "code",
   "execution_count": null,
   "id": "860957cf-3053-4c02-bf94-7f48575f738d",
   "metadata": {},
   "outputs": [],
   "source": []
  }
 ],
 "metadata": {
  "kernelspec": {
   "display_name": "anaconda-panel-2023.05-py310",
   "language": "python",
   "name": "conda-env-anaconda-panel-2023.05-py310-py"
  },
  "language_info": {
   "codemirror_mode": {
    "name": "ipython",
    "version": 3
   },
   "file_extension": ".py",
   "mimetype": "text/x-python",
   "name": "python",
   "nbconvert_exporter": "python",
   "pygments_lexer": "ipython3",
   "version": "3.11.3"
  }
 },
 "nbformat": 4,
 "nbformat_minor": 5
}
