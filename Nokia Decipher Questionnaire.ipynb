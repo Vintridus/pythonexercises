{
 "cells": [
  {
   "cell_type": "markdown",
   "id": "7ee1ebdf",
   "metadata": {},
   "source": [
    "# Nokia Code"
   ]
  },
  {
   "cell_type": "markdown",
   "id": "895908e2",
   "metadata": {},
   "source": [
    "Before, when smartphones were not touchscreen, typing out letters required the use of a physical keypad where users needed to press a number repeatedly until the letter they wanted showed up on-screen. \n",
    "\n",
    "Typing out a message such as \"HI\" would be pressing the keys: \"66-666\" \n",
    "\n",
    "This activity, you will decipher the numbered input to output the word that a user is trying to spell out. ^^\n",
    "\n",
    "\n"
   ]
  },
  {
   "cell_type": "markdown",
   "id": "45665a4d",
   "metadata": {},
   "source": [
    "#### 1. Load the JSON file containing the Nokia dictionary. Save it in a variable called `data`.\n"
   ]
  },
  {
   "cell_type": "code",
   "execution_count": 1,
   "id": "6cc13a23",
   "metadata": {},
   "outputs": [],
   "source": [
    "data = {\"2\": \"ABC\", \"3\": \"DEF\", \"4\": \"GHI\", \"5\": \"JKL\", \"6\": \"MNO\", \"7\": \"PQRS\", \"8\": \"TUV\", \"9\": \"WXYZ\", \"0\": \" \"}\n",
    "\n",
    "\n",
    "\n",
    "\n",
    "\n",
    "\n"
   ]
  },
  {
   "cell_type": "markdown",
   "id": "3003f7f4",
   "metadata": {},
   "source": [
    "#### 2. Create a function called `nokia_single`. This should accept a string of numbers called `num_string` pertaining to the nokia cipher. The output should be the text equivalent of the string of numbers.\n",
    "\n",
    "> *Assume that the input will always be a valid string to be ciphered.*<br><br>\n",
    "> *Assume that the returned value will just be a single character*\n",
    "\n",
    "<b>\n",
    "    \n",
    "| Function             | Expected Output |\n",
    "| ---:                 | :---:           | \n",
    "| nokia_single('2')    |'A'              |\n",
    "| nokia_single('77')   |'Q'              |\n",
    "| nokia_single('555')  |'L'              |\n",
    "| nokia_single('9999') |'Z'              |\n",
    "| nokia_single('0')    |' '              |\n",
    "    \n",
    "</b>"
   ]
  },
  {
   "cell_type": "code",
   "execution_count": 9,
   "id": "bd132a13",
   "metadata": {},
   "outputs": [],
   "source": [
    "def nokia_single(num_string):\n",
    "    length = len(num_string)\n",
    "    if num_string[0] == '0':\n",
    "        return ' '\n",
    "    return data[num_string[0]][length-1]\n",
    "\n",
    "\n",
    "\n",
    "\n",
    "\n",
    "\n",
    "\n",
    "\n"
   ]
  },
  {
   "cell_type": "code",
   "execution_count": 14,
   "id": "5f439f22-397d-4d94-8f68-b6364444dc76",
   "metadata": {},
   "outputs": [
    {
     "data": {
      "text/plain": [
       "'L'"
      ]
     },
     "execution_count": 14,
     "metadata": {},
     "output_type": "execute_result"
    }
   ],
   "source": [
    "nokia_single('555')"
   ]
  },
  {
   "cell_type": "markdown",
   "id": "7c7a691e",
   "metadata": {},
   "source": [
    "#### 3. When a user clicks on a number too many times, it instead cycled to go back to the start. \n",
    "\n",
    "#### //Edit your function from 2a to account for this possibility. Name a new function called `nokia_cycle` which accepts a string of numbers called `num_string`. The output should be the text equivalent to the string of numbers.\n",
    "<br>\n",
    "\n",
    "> *Assume that the input will always be a valid string to be ciphered.* <br><br>\n",
    "> *Assume that the returned value will just be a single character*\n",
    "\n",
    "<b>\n",
    "    \n",
    "| Function             | Expected Output |\n",
    "| ---:                 | :---:           | \n",
    "| nokia_single('2222222222')    |'A'              |\n",
    "| nokia_single('777777')   |'Q'              |\n",
    "| nokia_single('555555')  |'L'              |\n",
    "| nokia_single('99999999') |'Z'              |\n",
    "| nokia_single('0')    |' '              |\n",
    "    \n",
    "</b>"
   ]
  },
  {
   "cell_type": "code",
   "execution_count": 19,
   "id": "9fbbbe10",
   "metadata": {},
   "outputs": [],
   "source": [
    "def nokia_cycle(num_string):\n",
    "    length = len(num_string)\n",
    "    lenkey = len(data[num_string[0]])\n",
    "    while length > lenkey:\n",
    "        length -= lenkey\n",
    "    if num_string[0] == '0':\n",
    "        return ' '\n",
    "    return data[num_string[0]][length-1]\n",
    "    \n",
    "\n",
    "\n",
    "\n",
    "\n",
    "\n",
    "\n",
    "\n"
   ]
  },
  {
   "cell_type": "code",
   "execution_count": 25,
   "id": "75cd4a74-076f-4399-a721-f12964f70cd6",
   "metadata": {},
   "outputs": [
    {
     "data": {
      "text/plain": [
       "'A'"
      ]
     },
     "execution_count": 25,
     "metadata": {},
     "output_type": "execute_result"
    }
   ],
   "source": [
    "nokia_cycle('2222222')"
   ]
  },
  {
   "cell_type": "markdown",
   "id": "922be912",
   "metadata": {},
   "source": [
    "#### 4. Words can contain letters from the same number — this will be denoted by having an asterisk in between letters \n",
    "#### (\"TV\" is \"8\\*888\" and \"MOM\" will be \"6\\*666\\*6\")"
   ]
  },
  {
   "cell_type": "markdown",
   "id": "720d7975",
   "metadata": {},
   "source": [
    "#### //Create a function called `nokia_long` which accepts a string of numbers (called `long_string`) which account for situations as presented above. Return the corresponding letter output. \n",
    "\n",
    "> *Take note that this function should also take into account cases where the user cycled the input*\n",
    "\n",
    "<b>\n",
    "    \n",
    "| Function             | Expected Output |\n",
    "| ---:                      | :---:           | \n",
    "| nokia_long('2\\*22\\*222')    |'ABC'              |\n",
    "| nokia_long('33332677777')   |'DAMP'              |\n",
    "| nokia_long('63326\\*66677733') |'MEAMORE'              |\n",
    "| nokia_long('77778337\\*77770624\\*444222')    |'STEPS MAGIC'              |\n",
    "| nokia_long('777942022666\\*66642')    |'RWGA BOOGA'              |\n",
    "    \n",
    "</b>"
   ]
  },
  {
   "cell_type": "code",
   "execution_count": 88,
   "id": "476d0db8",
   "metadata": {},
   "outputs": [],
   "source": [
    "def nokia_long(long_string):\n",
    "    wordlist = []\n",
    "    current = ''\n",
    "    newword = ''\n",
    "    for i in range(0,len(long_string)):\n",
    "        if i == 0:\n",
    "            current += f'{long_string[0]}'\n",
    "        else:\n",
    "            if long_string[i] == long_string[i-1]:\n",
    "                current += f'{long_string[i]}'\n",
    "            elif long_string[i] != long_string[i-1]:\n",
    "                wordlist.append(current)\n",
    "                current = ''\n",
    "                current += f'{long_string[i]}'\n",
    "            elif long_string[i] == '*':\n",
    "                wordlist.append(current)\n",
    "                current = ''\n",
    "                current += f'{long_string[i]}'\n",
    "    wordlist.append(current)\n",
    "    for word in wordlist:\n",
    "        if word == '*':\n",
    "            continue\n",
    "        length = len(word)\n",
    "        lenkey = len(data[word[0]])\n",
    "        while length > lenkey:\n",
    "            length -= lenkey\n",
    "        if word == '0':\n",
    "            newword += ''\n",
    "        newword += data[word[0]][length-1]\n",
    "    return newword\n",
    "    \n",
    "    \n",
    "                \n",
    "        \n",
    "        \n",
    "        \n",
    "        \n",
    "\n",
    "\n",
    "\n",
    "\n",
    "\n",
    "\n",
    "\n"
   ]
  },
  {
   "cell_type": "code",
   "execution_count": null,
   "id": "f79100c0-3e57-42e9-b204-1a74e1d68ac2",
   "metadata": {},
   "outputs": [],
   "source": []
  },
  {
   "cell_type": "markdown",
   "id": "c7124d14",
   "metadata": {},
   "source": [
    "#### 5. Nokia Cipher:\n",
    "#### Now, do the reverse. Given a text string, convert it into the numbered equivalent.\n",
    "\n",
    "#### //Create a function called `nokia_cipher` which accepts a text string (called `text_string`) and returns the equivalent string of numbers. \n",
    "\n",
    "<b>\n",
    "    \n",
    "| Function             | Expected Output |\n",
    "| ---:                      | :---:           | \n",
    "| nokia_cipher('ABC')    |'2\\*22\\*222'              |\n",
    "| nokia_cipher('DAMP')   |'3267'              |\n",
    "| nokia_cipher('MEAMORE') |'63326\\*66677733'              |\n",
    "| nokia_cipher('STEPS MAGIC')    |'77778337\\*77770624\\*444222'              |\n",
    "| nokia_cipher('RWGA BOOGA')    |'777942022666\\*66642'              |\n",
    "    \n",
    "</b>"
   ]
  },
  {
   "cell_type": "code",
   "execution_count": 190,
   "id": "e6857332",
   "metadata": {},
   "outputs": [],
   "source": [
    "def nokia_cipher(text_string):\n",
    "    numbers = ''\n",
    "    rawnum = []\n",
    "    keys = []\n",
    "    for i in range(0,len(text_string)):\n",
    "        button = ''\n",
    "        if text_string[i] == ' ':\n",
    "            keys.append(' ')\n",
    "        for j in range(2,10):\n",
    "            for k in range(0,len(data[f'{j}'])):\n",
    "                if text_string[i] == data[f'{j}'][k]:\n",
    "                    button += data[f'{j}']\n",
    "                    keys.append(button)\n",
    "\n",
    "    for l in keys:\n",
    "        if l == ' ':\n",
    "            rawnum.append(0)\n",
    "        else:\n",
    "            rawnum.append(list(data.values()).index(l)+2)\n",
    "\n",
    "    for pos in range(0,len(text_string)): \n",
    "        fullnum = ''\n",
    "        for butpos in range(0,len(keys[pos])):\n",
    "            if text_string[pos] == keys[pos][butpos]:\n",
    "                inputs = butpos + 1\n",
    "                if rawnum[pos-1] == rawnum[pos]:\n",
    "                    fullnum += '*'\n",
    "                for inst in range(0,inputs):\n",
    "                    fullnum += f'{rawnum[pos]}'\n",
    "                numbers += fullnum\n",
    "    return numbers\n",
    "\n",
    "            \n",
    "        \n",
    "    \n",
    "\n",
    "\n",
    "\n",
    "\n",
    "\n",
    "\n",
    "\n"
   ]
  },
  {
   "cell_type": "code",
   "execution_count": 191,
   "id": "cc02cbf1-7ead-418d-8d5b-df6aca4f6c4b",
   "metadata": {},
   "outputs": [
    {
     "data": {
      "text/plain": [
       "'777942022666*66642'"
      ]
     },
     "execution_count": 191,
     "metadata": {},
     "output_type": "execute_result"
    }
   ],
   "source": [
    "nokia_cipher('RWGA BOOGA')"
   ]
  },
  {
   "cell_type": "markdown",
   "id": "5e2805fd",
   "metadata": {},
   "source": [
    "# END"
   ]
  }
 ],
 "metadata": {
  "kernelspec": {
   "display_name": "Python 3 (ipykernel)",
   "language": "python",
   "name": "python3"
  },
  "language_info": {
   "codemirror_mode": {
    "name": "ipython",
    "version": 3
   },
   "file_extension": ".py",
   "mimetype": "text/x-python",
   "name": "python",
   "nbconvert_exporter": "python",
   "pygments_lexer": "ipython3",
   "version": "3.10.9"
  }
 },
 "nbformat": 4,
 "nbformat_minor": 5
}
